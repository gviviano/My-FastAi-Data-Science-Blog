{
 "cells": [
  {
   "metadata": {},
   "cell_type": "markdown",
   "source": "---First Post",
   "id": "8e75e3a0ab07780f"
  },
  {
   "metadata": {},
   "cell_type": "markdown",
   "source": "",
   "id": "cb93d9461fc2723c"
  },
  {
   "metadata": {},
   "cell_type": "markdown",
   "source": "",
   "id": "a4bf01b0eca66633"
  }
 ],
 "metadata": {
  "kernelspec": {
   "display_name": "Python 3",
   "language": "python",
   "name": "python3"
  },
  "language_info": {
   "codemirror_mode": {
    "name": "ipython",
    "version": 2
   },
   "file_extension": ".py",
   "mimetype": "text/x-python",
   "name": "python",
   "nbconvert_exporter": "python",
   "pygments_lexer": "ipython2",
   "version": "2.7.6"
  }
 },
 "nbformat": 4,
 "nbformat_minor": 5
}
